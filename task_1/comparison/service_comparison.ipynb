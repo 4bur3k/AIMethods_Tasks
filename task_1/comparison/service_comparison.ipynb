{
 "cells": [
  {
   "cell_type": "markdown",
   "metadata": {},
   "source": [
    "Trying to compare Yandex Vision and Face++ resoults\n",
    "What left to do:\n",
    "* Found how to save and read label with count of faces\n",
    "* Count some data from the last block\n",
    "* Try to make some plots\n",
    "* Visualize it in streamlit\n",
    "* Write beutiful README and push it to github"
   ]
  },
  {
   "cell_type": "code",
   "execution_count": 153,
   "metadata": {},
   "outputs": [],
   "source": [
    "import base64\n",
    "import json\n",
    "import requests\n",
    "import os\n",
    "import re\n",
    "import matplotlib.pyplot as plt"
   ]
  },
  {
   "cell_type": "markdown",
   "metadata": {},
   "source": [
    "Constants:"
   ]
  },
  {
   "cell_type": "code",
   "execution_count": 154,
   "metadata": {},
   "outputs": [],
   "source": [
    "\n",
    "YANDEX_URL = 'https://vision.api.cloud.yandex.net/vision/v1/batchAnalyze'\n",
    "FACE_URL = 'https://api-us.faceplusplus.com/facepp/v3/detect'\n",
    "\n",
    "\n",
    "with open('../yandex_tkn.txt', 'r', encoding='utf-8') as f:\n",
    "    YANDEX_API_KEY = f.read()\n",
    "\n",
    "with open('../faceplus_tkn.txt', 'r', encoding='utf-8') as f:\n",
    "    FACE_API_KEY = f.read()\n",
    "\n",
    "with open('../faceplus_secret.txt', 'r', encoding='utf-8') as f:\n",
    "    FACE_API_SECRET = f.read()\n",
    "\n",
    "\n",
    "YANDEX_HEADER = {\"Authorization\": f\"Api-Key {YANDEX_API_KEY}\"}\n",
    "\n",
    "#faceplusplus requierse to send api key and secret with the image\n",
    "#so i'll make it later"
   ]
  },
  {
   "cell_type": "markdown",
   "metadata": {},
   "source": [
    "In this variables i'll keep count of detected faces"
   ]
  },
  {
   "cell_type": "code",
   "execution_count": 155,
   "metadata": {},
   "outputs": [],
   "source": [
    "yandex_total_faces_count = 0\n",
    "faceplus_total_faces_count = 0\n",
    "total_faces_count = 0\n",
    "\n",
    "\n",
    "#accurasy of every predict in procents\n",
    "yandex_individual_accurasy = []\n",
    "faceplus_individual_accurasy = []"
   ]
  },
  {
   "cell_type": "markdown",
   "metadata": {},
   "source": [
    "Functions:"
   ]
  },
  {
   "cell_type": "code",
   "execution_count": 156,
   "metadata": {},
   "outputs": [],
   "source": [
    "#taking image file in base64 encoding\n",
    "#return count of people on the image\n",
    "def yandex_request(image_b64):\n",
    "    \n",
    "    data_dict={\"folderId\":\"b1gb2477drh0ivbugf0p\", \"analyze_specs\": [{\"content\":image_b64.decode(), \n",
    "                \"features\":[{\"type\": \"FACE_DETECTION\"}], \"mimeType\":\"image/jpeg\"}]}\n",
    "    \n",
    "    response = requests.post(YANDEX_URL, json=data_dict, headers=YANDEX_HEADER)\n",
    "    print(response)\n",
    "    responce_data = response.json()\n",
    "\n",
    "    #if no faces detected return  0\n",
    "    if(responce_data['results'][0]['results'][0]['faceDetection'] == {}):   return 0\n",
    "\n",
    "    #array of dicts(coordinates of bounding boxes)\n",
    "    faces = responce_data['results'][0]['results'][0]['faceDetection']['faces']\n",
    "    \n",
    "\n",
    "    return len(faces)"
   ]
  },
  {
   "cell_type": "code",
   "execution_count": 157,
   "metadata": {},
   "outputs": [],
   "source": [
    "#taking image file in base64 encoding\n",
    "#return count of people on the image\n",
    "def faceplus_request(image_b64):\n",
    "\n",
    "    data_dict = {'api_key':FACE_API_KEY, 'api_secret':FACE_API_SECRET, \"image_base64\":image_b64}\n",
    "\n",
    "    response = requests.post(FACE_URL, data=data_dict)\n",
    "\n",
    "    response_data = json.loads(response.text)\n",
    "\n",
    "    return response_data['face_num']\n"
   ]
  },
  {
   "cell_type": "code",
   "execution_count": 158,
   "metadata": {},
   "outputs": [],
   "source": [
    "def get_total_faces_count(filename):\n",
    "    match = re.search(r'\\d{,2}', filename)\n",
    "    return int(match[0])"
   ]
  },
  {
   "cell_type": "markdown",
   "metadata": {},
   "source": [
    "Getting data from services:"
   ]
  },
  {
   "cell_type": "code",
   "execution_count": 159,
   "metadata": {},
   "outputs": [
    {
     "name": "stdout",
     "output_type": "stream",
     "text": [
      "<Response [200]>\n",
      "Yndx: 1 faces on 1_man.jpg\n",
      "Yndx accurasy on 1_man.jpg = 100.0%\n",
      "F++: 1 faces on 1_man.jpg\n",
      "F+ accurasy on 1_man.jpg = 100.0%\n",
      "<Response [200]>\n",
      "Yndx: 1 faces on 1_man_in_facemask.jpg\n",
      "Yndx accurasy on 1_man_in_facemask.jpg = 100.0%\n",
      "F++: 1 faces on 1_man_in_facemask.jpg\n",
      "F+ accurasy on 1_man_in_facemask.jpg = 100.0%\n",
      "<Response [200]>\n",
      "Yndx: 1 faces on 2_me.jpg\n",
      "Yndx accurasy on 2_me.jpg = 50.0%\n",
      "F++: 2 faces on 2_me.jpg\n",
      "F+ accurasy on 2_me.jpg = 100.0%\n",
      "<Response [200]>\n",
      "Yndx: 1 faces on 3_day_of_death.jpg\n",
      "Yndx accurasy on 3_day_of_death.jpg = 33.33333333333333%\n",
      "F++: 2 faces on 3_day_of_death.jpg\n",
      "F+ accurasy on 3_day_of_death.jpg = 66.66666666666666%\n",
      "<Response [200]>\n",
      "Yndx: 3 faces on 3_film.jpg\n",
      "Yndx accurasy on 3_film.jpg = 100.0%\n",
      "F++: 3 faces on 3_film.jpg\n",
      "F+ accurasy on 3_film.jpg = 100.0%\n",
      "<Response [200]>\n",
      "Yndx: 3 faces on 4_brigade.jpg\n",
      "Yndx accurasy on 4_brigade.jpg = 75.0%\n",
      "F++: 4 faces on 4_brigade.jpg\n",
      "F+ accurasy on 4_brigade.jpg = 100.0%\n",
      "<Response [200]>\n",
      "Yndx: 5 faces on 5_tranfer-resource-page.jpg\n",
      "Yndx accurasy on 5_tranfer-resource-page.jpg = 100.0%\n",
      "F++: 5 faces on 5_tranfer-resource-page.jpg\n",
      "F+ accurasy on 5_tranfer-resource-page.jpg = 100.0%\n",
      "<Response [200]>\n",
      "Yndx: 0 faces on 13_group.jpg\n",
      "Yndx accurasy on 13_group.jpg = 0.0%\n",
      "F++: 13 faces on 13_group.jpg\n",
      "F+ accurasy on 13_group.jpg = 100.0%\n",
      "<Response [200]>\n",
      "Yndx: 0 faces on 13_people-different-ages-demos-ss-1920.jpg\n",
      "Yndx accurasy on 13_people-different-ages-demos-ss-1920.jpg = 0.0%\n",
      "F++: 13 faces on 13_people-different-ages-demos-ss-1920.jpg\n",
      "F+ accurasy on 13_people-different-ages-demos-ss-1920.jpg = 100.0%\n",
      "<Response [200]>\n",
      "Yndx: 0 faces on 15_people.jpg\n",
      "Yndx accurasy on 15_people.jpg = 0.0%\n",
      "F++: 14 faces on 15_people.jpg\n",
      "F+ accurasy on 15_people.jpg = 93.33333333333333%\n",
      "<Response [200]>\n",
      "Yndx: 0 faces on 21_live.jpg\n",
      "Yndx accurasy on 21_live.jpg = 0.0%\n",
      "F++: 16 faces on 21_live.jpg\n",
      "F+ accurasy on 21_live.jpg = 76.19047619047619%\n",
      "<Response [200]>\n",
      "Yndx: 0 faces on 28_144639305.jpg\n",
      "Yndx accurasy on 28_144639305.jpg = 0.0%\n",
      "F++: 21 faces on 28_144639305.jpg\n",
      "F+ accurasy on 28_144639305.jpg = 75.0%\n",
      "Yandex detected 15 faces\n",
      "Face++ detected 95 face\n",
      "There're 28 faces at all\n"
     ]
    }
   ],
   "source": [
    "dataset = sorted(os.listdir('data'), key=get_total_faces_count)\n",
    "\n",
    "for filename in dataset:\n",
    "\n",
    "    total_faces_count += get_total_faces_count(filename)\n",
    "\n",
    "\n",
    "    with open(f'data/{filename}', 'rb') as img:\n",
    "\n",
    "        image_b64 = base64.b64encode(img.read())\n",
    "        \n",
    "        #yandex detecting:\n",
    "        faces_count = yandex_request(image_b64)\n",
    "        print (f'Yndx: {faces_count} faces on {filename}')\n",
    "\n",
    "        yandex_individual_accurasy.append(faces_count/get_total_faces_count(filename) * 100)\n",
    "        print(f'Yndx accurasy on {filename} = {yandex_individual_accurasy[-1]}%')\n",
    "        \n",
    "        yandex_total_faces_count += faces_count\n",
    "\n",
    "\n",
    "        #face++ detecting:\n",
    "        faces_count = faceplus_request(image_b64)\n",
    "        print(f'F++: {faces_count} faces on {filename}')\n",
    "        \n",
    "        faceplus_individual_accurasy.append(faces_count/get_total_faces_count(filename) * 100)\n",
    "        print(f'F+ accurasy on {filename} = {faceplus_individual_accurasy[-1]}%')\n",
    "\n",
    "        faceplus_total_faces_count += faces_count\n",
    "\n",
    "\n",
    "print(  f'Yandex detected {yandex_total_faces_count} faces', \n",
    "        f'Face++ detected {faceplus_total_faces_count} face', \n",
    "        f'There\\'re {get_total_faces_count(filename)} faces at all',\n",
    "    sep='\\n')"
   ]
  },
  {
   "cell_type": "markdown",
   "metadata": {},
   "source": [
    "Analysing data:\n",
    "* Total accuracy = all detected faces / total count of faces\n",
    "* Average accuracy:  $$\\frac{\\displaystyle\\sum_{i = 1}^{n}C_i}{n}  \\\\\n",
    "                        n  =  \\textrm{dataset size}  \\\\ C_i =  \\textrm{individual accurasy on the picture} $$\n",
    "\n"
   ]
  },
  {
   "cell_type": "code",
   "execution_count": 160,
   "metadata": {},
   "outputs": [
    {
     "name": "stdout",
     "output_type": "stream",
     "text": [
      "Yndx total accuraсy = 13.761467889908257%\n",
      "Face++ total accuraсy = 87.1559633027523%\n",
      "Yandex average accuracy = 46.52777777777777\n",
      "Face++ average accuracy = 92.59920634920634\n"
     ]
    }
   ],
   "source": [
    "yandex_total_accuracy = yandex_total_faces_count / total_faces_count * 100\n",
    "faceplus_total_accurasy = faceplus_total_faces_count / total_faces_count * 100\n",
    "yandex_average_accuracy = 0\n",
    "faceplus_average_accurasy = 0\n",
    "\n",
    "yandex_average_accuracy = sum(yandex_individual_accurasy)/len(yandex_individual_accurasy)\n",
    "faceplus_average_accurasy  = sum(faceplus_individual_accurasy)/len(faceplus_individual_accurasy)\n",
    "\n",
    "\n",
    "print(f'Yndx total accuraсy = {yandex_total_accuracy}%', \n",
    "    f'Face++ total accuraсy = {faceplus_total_accurasy}%', \n",
    "    f'Yandex average accuracy = {yandex_average_accuracy}',\n",
    "    f'Face++ average accuracy = {faceplus_average_accurasy}', sep='\\n')\n",
    "\n"
   ]
  },
  {
   "cell_type": "markdown",
   "metadata": {},
   "source": [
    "Plot\n",
    "\n",
    "###### Detecting accuracy depends on the number of faces"
   ]
  },
  {
   "cell_type": "code",
   "execution_count": 161,
   "metadata": {},
   "outputs": [
    {
     "data": {
      "image/png": "[encoded data removed]",
      "text/plain": [
       "<Figure size 432x288 with 1 Axes>"
      ]
     },
     "metadata": {
      "needs_background": "light"
     },
     "output_type": "display_data"
    }
   ],
   "source": [
    "faces = len(os.listdir('data'))\n",
    "x = sorted([get_total_faces_count(x) for x in os.listdir('data')])\n",
    "\n",
    "\n",
    "yandex_individual_accurasy = [100.0, 100.0, 50.0, 33.33333333333333, 100.0, 75.0, 100.0, 0.0, 0.0, 0.0, 0.0, 0.0]\n",
    "\n",
    "plt.plot(x, yandex_individual_accurasy, color='red')\n",
    "plt.plot(x, faceplus_individual_accurasy, color = 'blue')\n",
    "\n",
    "plt.xlabel('faces (num)')\n",
    "plt.ylabel('accurasy (%)')\n",
    "\n",
    "plt.show()\n",
    "\n",
    "\n"
   ]
  },
  {
   "cell_type": "markdown",
   "metadata": {},
   "source": [
    "Red line - yandex accuracy\n",
    "\n",
    "Blue line - Face++ accuracy"
   ]
  }
 ],
 "metadata": {
  "kernelspec": {
   "display_name": "Python 3.10.5 64-bit",
   "language": "python",
   "name": "python3"
  },
  "language_info": {
   "codemirror_mode": {
    "name": "ipython",
    "version": 3
   },
   "file_extension": ".py",
   "mimetype": "text/x-python",
   "name": "python",
   "nbconvert_exporter": "python",
   "pygments_lexer": "ipython3",
   "version": "3.10.5"
  },
  "orig_nbformat": 4,
  "vscode": {
   "interpreter": {
    "hash": "ccfea65839ea7b4cb7611917847ae955f8a5d3f7496a05c88f3bf628abe673bf"
   }
  }
 },
 "nbformat": 4,
 "nbformat_minor": 2
}
