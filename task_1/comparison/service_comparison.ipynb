{
 "cells": [
  {
   "cell_type": "markdown",
   "metadata": {},
   "source": [
    "Trying to compare Yandex Vision and Face++ resoults\n",
    "What left to do:\n",
    "* Found how to save and read label with count of faces\n",
    "* Count some data from the last block\n",
    "* Try to make some plots\n",
    "* Visualize it in streamlit\n",
    "* Write beutiful README and push it to github"
   ]
  },
  {
   "cell_type": "code",
   "execution_count": 47,
   "metadata": {},
   "outputs": [],
   "source": [
    "import base64\n",
    "import json\n",
    "import requests\n",
    "import os"
   ]
  },
  {
   "cell_type": "markdown",
   "metadata": {},
   "source": [
    "Constants:"
   ]
  },
  {
   "cell_type": "code",
   "execution_count": 48,
   "metadata": {},
   "outputs": [],
   "source": [
    "\n",
    "YANDEX_URL = 'https://vision.api.cloud.yandex.net/vision/v1/batchAnalyze'\n",
    "FACE_URL = 'https://api-us.faceplusplus.com/facepp/v3/detect'\n",
    "\n",
    "\n",
    "with open('../yandex_tkn.txt', 'r', encoding='utf-8') as f:\n",
    "    YANDEX_API_KEY = f.read()\n",
    "\n",
    "with open('../faceplus_tkn.txt', 'r', encoding='utf-8') as f:\n",
    "    FACE_API_KEY = f.read()\n",
    "\n",
    "with open('../faceplus_secret.txt', 'r', encoding='utf-8') as f:\n",
    "    FACE_API_SECRET = f.read()\n",
    "\n",
    "\n",
    "YANDEX_HEADER = {\"Authorization\": f\"Api-Key {YANDEX_API_KEY}\"}\n",
    "\n",
    "#faceplusplus requierse to send api key and secret with the image\n",
    "#so i'll make it later"
   ]
  },
  {
   "cell_type": "markdown",
   "metadata": {},
   "source": [
    "In this variables i'll keep count of detected faces"
   ]
  },
  {
   "cell_type": "code",
   "execution_count": 49,
   "metadata": {},
   "outputs": [],
   "source": [
    "yandex_total_faces_count = 0\n",
    "faceplus_total_faces_count = 0\n",
    "total_faces_count = 0\n",
    "\n",
    "\n",
    "#accurasy of every predict in procents\n",
    "yandex_individual_accurasy = []\n",
    "faceplus_individual_accurasy = []"
   ]
  },
  {
   "cell_type": "markdown",
   "metadata": {},
   "source": [
    "Functions:"
   ]
  },
  {
   "cell_type": "code",
   "execution_count": 50,
   "metadata": {},
   "outputs": [],
   "source": [
    "#taking image file in base64 encoding\n",
    "#return count of people on the image\n",
    "def yandex_request(image_b64):\n",
    "    \n",
    "    data_dict={\"folderId\":\"b1gb2477drh0ivbugf0p\", \"analyze_specs\": [{\"content\":image_b64.decode(), \n",
    "                \"features\":[{\"type\": \"FACE_DETECTION\"}], \"mimeType\":\"image/jpeg\"}]}\n",
    "    \n",
    "    response = requests.post(YANDEX_URL, json=data_dict, headers=YANDEX_HEADER)\n",
    "\n",
    "    responce_data = response.json()\n",
    "\n",
    "    #if no faces detected return  0\n",
    "    if(responce_data['results'][0]['results'][0]['faceDetection'] == {}):   return 0\n",
    "\n",
    "    #array of dicts(coordinates of bounding boxes)\n",
    "    faces = responce_data['results'][0]['results'][0]['faceDetection']['faces']\n",
    "    \n",
    "\n",
    "    return len(faces)"
   ]
  },
  {
   "cell_type": "code",
   "execution_count": 51,
   "metadata": {},
   "outputs": [],
   "source": [
    "#taking image file in base64 encoding\n",
    "#return count of people on the image\n",
    "def faceplus_request(image_b64):\n",
    "\n",
    "    data_dict = {'api_key':FACE_API_KEY, 'api_secret':FACE_API_SECRET, \"image_base64\":image_b64}\n",
    "\n",
    "    response = requests.post(FACE_URL, data=data_dict)\n",
    "\n",
    "    response_data = json.loads(response.text)\n",
    "\n",
    "    return response_data['face_num']\n"
   ]
  },
  {
   "cell_type": "markdown",
   "metadata": {},
   "source": [
    "Getting data from services:"
   ]
  },
  {
   "cell_type": "code",
   "execution_count": 52,
   "metadata": {},
   "outputs": [
    {
     "name": "stdout",
     "output_type": "stream",
     "text": [
      "Yndx: 0 faces on 144639305.jpg\n",
      "F++: 21 faces on 144639305.jpg\n",
      "Yndx: 3 faces on brigade.jpg\n",
      "F++: 4 faces on brigade.jpg\n",
      "Yndx: 1 faces on day_of_death.jpg\n",
      "F++: 2 faces on day_of_death.jpg\n",
      "Yndx: 3 faces on film.jpg\n",
      "F++: 3 faces on film.jpg\n",
      "Yndx: 0 faces on group.jpg\n",
      "F++: 13 faces on group.jpg\n",
      "Yndx: 0 faces on live.jpg\n",
      "F++: 16 faces on live.jpg\n",
      "Yndx: 1 faces on man.jpg\n",
      "F++: 1 faces on man.jpg\n",
      "Yndx: 1 faces on man_in_facemask.jpg\n",
      "F++: 1 faces on man_in_facemask.jpg\n",
      "Yndx: 1 faces on me.jpg\n",
      "F++: 2 faces on me.jpg\n",
      "Yndx: 5 faces on meme.jpg\n",
      "F++: 6 faces on meme.jpg\n",
      "Yndx: 0 faces on people-different-ages-demos-ss-1920.jpg\n",
      "F++: 13 faces on people-different-ages-demos-ss-1920.jpg\n",
      "Yndx: 0 faces on people.jpg\n",
      "F++: 14 faces on people.jpg\n",
      "Yndx: 5 faces on tranfer-resource-page.jpg\n",
      "F++: 5 faces on tranfer-resource-page.jpg\n",
      "Yandex detected 20 faces\n",
      "Face++ detected 101 face\n",
      "There're 0 faces at all\n"
     ]
    }
   ],
   "source": [
    "\n",
    "for filename in os.listdir('data'):\n",
    "    with open(f'data/{filename}', 'rb') as img:\n",
    "\n",
    "        image_b64 = base64.b64encode(img.read())\n",
    "        \n",
    "        #yandex detecting:\n",
    "        faces_count = yandex_request(image_b64)\n",
    "        print (f'Yndx: {faces_count} faces on {filename}')\n",
    "        yandex_total_faces_count += faces_count\n",
    "\n",
    "        #face++ detecting:\n",
    "        faces_count = faceplus_request(image_b64)\n",
    "        print(f'F++: {faces_count} faces on {filename}')\n",
    "        faceplus_total_faces_count += faces_count\n",
    "\n",
    "print(  f'Yandex detected {yandex_total_faces_count} faces', \n",
    "        f'Face++ detected {faceplus_total_faces_count} face', \n",
    "        f'There\\'re {TOTAL_FACES_COUNT} faces at all',\n",
    "    sep='\\n')"
   ]
  },
  {
   "cell_type": "markdown",
   "metadata": {},
   "source": [
    "Analysing data:\n",
    "* Total accuracy\n",
    "* Individual simple avarege mean\n",
    "* Individual simple avarege weighted mean"
   ]
  },
  {
   "cell_type": "code",
   "execution_count": 53,
   "metadata": {},
   "outputs": [
    {
     "ename": "ZeroDivisionError",
     "evalue": "division by zero",
     "output_type": "error",
     "traceback": [
      "\u001b[1;31m---------------------------------------------------------------------------\u001b[0m",
      "\u001b[1;31mZeroDivisionError\u001b[0m                         Traceback (most recent call last)",
      "\u001b[1;32md:\\Work\\MISIS\\7 sem\\AI\\LRs\\task_1\\comparison\\service_comparison.ipynb Ячейка 13\u001b[0m in \u001b[0;36m<cell line: 1>\u001b[1;34m()\u001b[0m\n\u001b[1;32m----> <a href='vscode-notebook-cell:/d%3A/Work/MISIS/7%20sem/AI/LRs/task_1/comparison/service_comparison.ipynb#X15sZmlsZQ%3D%3D?line=0'>1</a>\u001b[0m yandex_total_accuracy \u001b[39m=\u001b[39m yandex_total_faces_count \u001b[39m/\u001b[39;49m TOTAL_FACES_COUNT \u001b[39m*\u001b[39m \u001b[39m100\u001b[39m\n\u001b[0;32m      <a href='vscode-notebook-cell:/d%3A/Work/MISIS/7%20sem/AI/LRs/task_1/comparison/service_comparison.ipynb#X15sZmlsZQ%3D%3D?line=1'>2</a>\u001b[0m faceplus_total_accuracy \u001b[39m=\u001b[39m faceplus_total_faces_count \u001b[39m/\u001b[39m TOTAL_FACES_COUNT \u001b[39m*\u001b[39m \u001b[39m100\u001b[39m\n\u001b[0;32m      <a href='vscode-notebook-cell:/d%3A/Work/MISIS/7%20sem/AI/LRs/task_1/comparison/service_comparison.ipynb#X15sZmlsZQ%3D%3D?line=3'>4</a>\u001b[0m \u001b[39mprint\u001b[39m(\u001b[39mf\u001b[39m\u001b[39m'\u001b[39m\u001b[39mYndx total accurasy = \u001b[39m\u001b[39m{\u001b[39;00myandex_total_accuracy\u001b[39m}\u001b[39;00m\u001b[39m%\u001b[39m\u001b[39m'\u001b[39m, \n\u001b[0;32m      <a href='vscode-notebook-cell:/d%3A/Work/MISIS/7%20sem/AI/LRs/task_1/comparison/service_comparison.ipynb#X15sZmlsZQ%3D%3D?line=4'>5</a>\u001b[0m     \u001b[39mf\u001b[39m\u001b[39m'\u001b[39m\u001b[39mFace++ total accurasy = \u001b[39m\u001b[39m{\u001b[39;00mfaceplus_individual_accurasy\u001b[39m}\u001b[39;00m\u001b[39m%\u001b[39m\u001b[39m'\u001b[39m, sep\u001b[39m=\u001b[39m\u001b[39m'\u001b[39m\u001b[39m\\n\u001b[39;00m\u001b[39m'\u001b[39m)\n",
      "\u001b[1;31mZeroDivisionError\u001b[0m: division by zero"
     ]
    }
   ],
   "source": [
    "yandex_total_accuracy = yandex_total_faces_count / total_faces_count * 100\n",
    "faceplus_total_accuracy = faceplus_total_faces_count / total_faces_count * 100\n",
    "\n",
    "print(f'Yndx total accurasy = {yandex_total_accuracy}%', \n",
    "    f'Face++ total accurasy = {faceplus_individual_accurasy}%', sep='\\n')\n",
    "\n"
   ]
  }
 ],
 "metadata": {
  "kernelspec": {
   "display_name": "Python 3.10.5 64-bit",
   "language": "python",
   "name": "python3"
  },
  "language_info": {
   "codemirror_mode": {
    "name": "ipython",
    "version": 3
   },
   "file_extension": ".py",
   "mimetype": "text/x-python",
   "name": "python",
   "nbconvert_exporter": "python",
   "pygments_lexer": "ipython3",
   "version": "3.10.5"
  },
  "orig_nbformat": 4,
  "vscode": {
   "interpreter": {
    "hash": "ccfea65839ea7b4cb7611917847ae955f8a5d3f7496a05c88f3bf628abe673bf"
   }
  }
 },
 "nbformat": 4,
 "nbformat_minor": 2
}
