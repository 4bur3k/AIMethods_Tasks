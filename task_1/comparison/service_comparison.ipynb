{
 "cells": [
  {
   "cell_type": "markdown",
   "metadata": {},
   "source": [
    "Trying to compare Yandex Vision and Face++ resoults"
   ]
  },
  {
   "cell_type": "code",
   "execution_count": 8,
   "metadata": {},
   "outputs": [],
   "source": [
    "import base64\n",
    "import json\n",
    "import requests\n",
    "import os"
   ]
  },
  {
   "cell_type": "markdown",
   "metadata": {},
   "source": [
    "Constants:"
   ]
  },
  {
   "cell_type": "code",
   "execution_count": 9,
   "metadata": {},
   "outputs": [],
   "source": [
    "YANDEX_URL = 'https://vision.api.cloud.yandex.net/vision/v1/batchAnalyze'\n",
    "FACE_URL = 'https://api-us.faceplusplus.com/facepp/v3/detect'\n",
    "\n",
    "\n",
    "with open('../yandex_tkn.txt', 'r', encoding='utf-8') as f:\n",
    "    YANDEX_API_KEY = f.read()\n",
    "\n",
    "with open('../faceplus_tkn.txt', 'r', encoding='utf-8') as f:\n",
    "    FACE_API_KEY = f.read()\n",
    "\n",
    "with open('../faceplus_secret.txt', 'r', encoding='utf-8') as f:\n",
    "    FACE_API_SECRET = f.read()\n",
    "\n",
    "\n",
    "YANDEX_HEADER = {\"Authorization\": f\"Api-Key {YANDEX_API_KEY}\"}\n",
    "\n",
    "#faceplusplus requierse to send api key and secret with the image\n",
    "#so i'll make it later"
   ]
  },
  {
   "cell_type": "markdown",
   "metadata": {},
   "source": [
    "In this variables i'll keep count of detected faces"
   ]
  },
  {
   "cell_type": "code",
   "execution_count": null,
   "metadata": {},
   "outputs": [],
   "source": [
    "total_faces_count_yandex = 0\n",
    "total_faces_count_face = 0"
   ]
  },
  {
   "cell_type": "markdown",
   "metadata": {},
   "source": [
    "Functions:"
   ]
  },
  {
   "cell_type": "code",
   "execution_count": 10,
   "metadata": {},
   "outputs": [],
   "source": [
    "#taking image file \n",
    "#return count of people on the image\n",
    "def yandex_request(img_file):\n",
    "    image_b64 = base64.b64encode(img_file.read())\n",
    "\n",
    "    data_dict={\"folderId\":\"b1gb2477drh0ivbugf0p\", \"analyze_specs\": [{\"content\":image_b64.decode(), \n",
    "                \"features\":[{\"type\": \"FACE_DETECTION\"}], \"mimeType\":\"image/jpeg\"}]}\n",
    "    \n",
    "    response = requests.post(YANDEX_URL, json=data_dict, headers=YANDEX_HEADER)\n",
    "    print(response)\n",
    "\n",
    "    responce_data = response.json()\n",
    "\n",
    "    #if no faces detected return  0\n",
    "    if(responce_data['results'][0]['results'][0]['faceDetection'] == {}):   return 0\n",
    "\n",
    "    #array of dicts(coordinates of bounding boxes)\n",
    "    faces = responce_data['results'][0]['results'][0]['faceDetection']['faces']\n",
    "    \n",
    "\n",
    "    return len(faces)"
   ]
  },
  {
   "cell_type": "code",
   "execution_count": 11,
   "metadata": {},
   "outputs": [
    {
     "name": "stdout",
     "output_type": "stream",
     "text": [
      "<Response [200]>\n",
      "[{'boundingBox': {'vertices': [{'x': '895', 'y': '179'}, {'x': '895', 'y': '360'}, {'x': '1076', 'y': '360'}, {'x': '1076', 'y': '179'}]}}, {'boundingBox': {'vertices': [{'x': '1313', 'y': '106'}, {'x': '1313', 'y': '285'}, {'x': '1492', 'y': '285'}, {'x': '1492', 'y': '106'}]}}, {'boundingBox': {'vertices': [{'x': '137', 'y': '207'}, {'x': '137', 'y': '383'}, {'x': '312', 'y': '383'}, {'x': '312', 'y': '207'}]}}]\n",
      "3\n"
     ]
    }
   ],
   "source": [
    "with open('data/brigade.jpg', 'rb') as img:\n",
    "    print(yandex_request(img))"
   ]
  }
 ],
 "metadata": {
  "kernelspec": {
   "display_name": "Python 3.10.5 64-bit",
   "language": "python",
   "name": "python3"
  },
  "language_info": {
   "codemirror_mode": {
    "name": "ipython",
    "version": 3
   },
   "file_extension": ".py",
   "mimetype": "text/x-python",
   "name": "python",
   "nbconvert_exporter": "python",
   "pygments_lexer": "ipython3",
   "version": "3.10.5"
  },
  "orig_nbformat": 4,
  "vscode": {
   "interpreter": {
    "hash": "ccfea65839ea7b4cb7611917847ae955f8a5d3f7496a05c88f3bf628abe673bf"
   }
  }
 },
 "nbformat": 4,
 "nbformat_minor": 2
}
